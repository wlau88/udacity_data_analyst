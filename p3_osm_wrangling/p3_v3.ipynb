{
 "cells": [
  {
   "cell_type": "markdown",
   "metadata": {},
   "source": [
    "#P3 Data Wrangling with MongoDB\n",
    "\n",
    "###Map Area: San Francisco, CA"
   ]
  },
  {
   "cell_type": "markdown",
   "metadata": {},
   "source": [
    "#0. Procedure\n",
    "###Count types of tags in the dataset\n",
    "\n",
    "To get a rough sense of the data"
   ]
  },
  {
   "cell_type": "code",
   "execution_count": 12,
   "metadata": {
    "collapsed": false
   },
   "outputs": [
    {
     "name": "stdout",
     "output_type": "stream",
     "text": [
      "{'node': 1410191, 'nd': 1677325, 'bounds': 1, 'member': 26246, 'tag': 949435, 'relation': 1687, 'way': 154315, 'osm': 1}\n"
     ]
    }
   ],
   "source": [
    "print count_tags('san-francisco.osm')"
   ]
  },
  {
   "cell_type": "markdown",
   "metadata": {
    "collapsed": true
   },
   "source": [
    "###Count number of tag types\n",
    "\n",
    "- lower, lower_colon and problemchars"
   ]
  },
  {
   "cell_type": "code",
   "execution_count": 19,
   "metadata": {
    "collapsed": false
   },
   "outputs": [],
   "source": [
    "tag_types_dict = process_map('san-francisco.osm')"
   ]
  },
  {
   "cell_type": "code",
   "execution_count": 5,
   "metadata": {
    "collapsed": false
   },
   "outputs": [],
   "source": [
    "# most of them look like seamark (nautical chart standard), they can be ignored."
   ]
  },
  {
   "cell_type": "markdown",
   "metadata": {},
   "source": [
    "###Auditing Postal codes and Street names"
   ]
  },
  {
   "cell_type": "markdown",
   "metadata": {},
   "source": [
    "###Postal codes\n",
    "\n",
    "- whitespaces --> trim\n",
    "- CA --> truncate the front\n",
    "- extension --> truncate the back\n",
    "- 4 digit, 3 digit --> drop"
   ]
  },
  {
   "cell_type": "markdown",
   "metadata": {},
   "source": [
    "###Street types"
   ]
  },
  {
   "cell_type": "markdown",
   "metadata": {},
   "source": [
    "###Some invalid numeric street names\n",
    "\n",
    "- house number in the wrong place\n",
    "- 'PM'\n",
    "\n",
    "###A's\n",
    "\n",
    "- Abenue\n",
    "- variants of avenue\n",
    "\n",
    "###B's\n",
    "\n",
    "- variants of blvd and broadway\n",
    "\n",
    "###C's\n",
    "\n",
    "- variants of crescent and court\n",
    "\n",
    "###D's\n",
    "\n",
    "- variants of drive\n",
    "\n",
    "###H's\n",
    "\n",
    "- variants of highway\n",
    "\n",
    "###L's\n",
    "\n",
    "- variants of lanes and plaza\n",
    "\n",
    "###R's\n",
    "\n",
    "- variants of road \n",
    "\n",
    "###S's \n",
    "\n",
    "- variants of streets"
   ]
  },
  {
   "cell_type": "markdown",
   "metadata": {},
   "source": [
    "###Street types cleaning\n",
    "\n",
    "{ \"Ave.\": \"Ave\",\n",
    "            \"Abenue\": \"Ave\",\n",
    "            \"ave\": \"Ave\",\n",
    "            \"avenue\": \"Ave\",\n",
    "            \"Blvd,\": \"Blvd\",\n",
    "            \"Blvd.\": \"Blvd\",\n",
    "            \"Boulavard\": \"Blvd\",\n",
    "            \"Boulvard\": \"Blvd\",\n",
    "            \"broadway\": \"Broadway\",\n",
    "            \"bush\": \"Bush\",\n",
    "            \"Cres\": \"Crescent\",\n",
    "            \"Ctr\": \"Center\",\n",
    "            \"Dr.\": \"Dr\",\n",
    "            \"Hwy\": \"Highway\",\n",
    "            \"Ln.\": \"Ln\",\n",
    "            \"Plz\": \"Plaza\",\n",
    "            \"parkway\": \"Parkway\", \n",
    "            \"Rd.\": \"Rd\",\n",
    "            \"Steet\": \"St\",\n",
    "            \"St.\": \"St\",\n",
    "            \"st\": \"St\",\n",
    "            \"street\": \"St\",\n",
    "            \"square\": \"Square\",\n",
    "            \"sutter\": \"Sutter\" }"
   ]
  },
  {
   "cell_type": "markdown",
   "metadata": {},
   "source": [
    "###Converting to JSON and preparing for MongoDB \n",
    "\n",
    "- step is done in data_prep.py"
   ]
  },
  {
   "cell_type": "markdown",
   "metadata": {
    "collapsed": true
   },
   "source": [
    "#1. Problems encountered in the map\n",
    "\n",
    "After thoroughly auditing the area, there are two main problems with the data:\n",
    "\n",
    "- different variation of street names \n",
    "- different variation of postal codes\n",
    "\n",
    "\n",
    "###Different variation of streetnames\n",
    "The different variation of streetnames are programmatically cleaned as indicated by the mapping.\n",
    "\n",
    "\n",
    "###Different variation of postal codes\n",
    "The different variation of postal codes are programmatically cleaned."
   ]
  },
  {
   "cell_type": "markdown",
   "metadata": {},
   "source": [
    "#2. Data overview\n",
    "\n",
    "The following section contains some basic statistics about the dataset and the queries used to gather them:\n",
    "\n",
    "Date of data set: as of Dec 31, 2013\n",
    "\n",
    "Source of data set: http://metro.teczno.com/#san-francisco\n",
    "\n",
    "Reason: Living in SF\n",
    "\n",
    "File sizes:\n",
    "\n",
    "- san-francisco.osm.json = 359.9MB\n",
    "- san-francisco.osm = 326.2MB"
   ]
  },
  {
   "cell_type": "markdown",
   "metadata": {},
   "source": [
    "###Sort postcodes by count, descending"
   ]
  },
  {
   "cell_type": "code",
   "execution_count": 6,
   "metadata": {
    "collapsed": false
   },
   "outputs": [],
   "source": [
    "#     pipeline = [{\"$match\": {\"address.postcode\": {\"$exists\": 1}}}, \n",
    "#                 {\"$group\": {\"_id\": \"$address.postcode\", \"count\": {\"$sum\": 1}}}, \n",
    "#                 {\"$sort\": {\"count\":-1}}]\n",
    "\n",
    "# postal codes look mostly correct. some empty strings are the inappropriate ones \n",
    "# that are taken out"
   ]
  },
  {
   "cell_type": "markdown",
   "metadata": {},
   "source": [
    "### Sort cities by count, descending"
   ]
  },
  {
   "cell_type": "code",
   "execution_count": 7,
   "metadata": {
    "collapsed": false
   },
   "outputs": [],
   "source": [
    "#     pipeline = [{\"$match\":{\"address.city\":{\"$exists\":1}}}, \n",
    "#                 {\"$group\":{\"_id\":\"$address.city\", \"count\":{\"$sum\":1}}}, \n",
    "#                 {\"$sort\":{\"count\":-1}}]\n",
    "    \n",
    "# Several of the cities have several mispellings/variations: \n",
    "# San Francisco, Berkeley, Oakland\n",
    "\n",
    "# Some unexpected ones: 157, 155"
   ]
  },
  {
   "cell_type": "markdown",
   "metadata": {},
   "source": [
    "###Number of documents"
   ]
  },
  {
   "cell_type": "code",
   "execution_count": 9,
   "metadata": {
    "collapsed": false,
    "scrolled": true
   },
   "outputs": [],
   "source": [
    "#     result = db.sf1.find().count()\n",
    "    \n",
    "# Number of docs: 1564506"
   ]
  },
  {
   "cell_type": "markdown",
   "metadata": {},
   "source": [
    "###Number of nodes"
   ]
  },
  {
   "cell_type": "code",
   "execution_count": 10,
   "metadata": {
    "collapsed": false
   },
   "outputs": [],
   "source": [
    "#     result = db.sf1.find({\"type\":\"node\"}).count()\n",
    "\n",
    "# Number of nodes: 1410114 "
   ]
  },
  {
   "cell_type": "markdown",
   "metadata": {},
   "source": [
    "###Number of ways"
   ]
  },
  {
   "cell_type": "code",
   "execution_count": 11,
   "metadata": {
    "collapsed": false
   },
   "outputs": [],
   "source": [
    "#     result = db.sf1.find({\"type\":\"way\"}).count()\n",
    "\n",
    "# Number of ways: 154289"
   ]
  },
  {
   "cell_type": "markdown",
   "metadata": {},
   "source": [
    "###Number of unique users"
   ]
  },
  {
   "cell_type": "code",
   "execution_count": 12,
   "metadata": {
    "collapsed": false
   },
   "outputs": [],
   "source": [
    "#     result = len(db.sf1.distinct(\"created.user\"))\n",
    "\n",
    "# Number of unique users: 1288"
   ]
  },
  {
   "cell_type": "markdown",
   "metadata": {},
   "source": [
    "###Top 1 contributing user"
   ]
  },
  {
   "cell_type": "code",
   "execution_count": 18,
   "metadata": {
    "collapsed": false
   },
   "outputs": [
    {
     "name": "stdout",
     "output_type": "stream",
     "text": [
      "[{u'_id': u'oldtopos', u'count': 334076}]\n"
     ]
    }
   ],
   "source": [
    "#     pipeline = [{\"$group\":{\"_id\": \"$created.user\", \"count\":{\"$sum\": 1}}},\n",
    "#                 {\"$sort\":{\"count\": -1}}, {\"$limit\": 1}]"
   ]
  },
  {
   "cell_type": "markdown",
   "metadata": {},
   "source": [
    "###Number of users having 1 post"
   ]
  },
  {
   "cell_type": "code",
   "execution_count": 19,
   "metadata": {
    "collapsed": false
   },
   "outputs": [
    {
     "name": "stdout",
     "output_type": "stream",
     "text": [
      "[{u'_id': 1, u'num_users': 292}]\n"
     ]
    }
   ],
   "source": [
    "#     pipeline = [{\"$group\":{\"_id\":\"$created.user\", \"count\":{\"$sum\": 1}}}, \n",
    "#                 {\"$group\":{\"_id\":\"$count\", \"num_users\":{\"$sum\": 1}}}, \n",
    "#                 {\"$sort\":{\"_id\": 1}}, {\"$limit\": 1}]"
   ]
  },
  {
   "cell_type": "markdown",
   "metadata": {},
   "source": [
    "#3. Additional Ideas\n",
    "\n",
    "- User contribution is pretty skewed but has a healthy base of contributing users (~200 users contribute to 99% of the content)\n",
    "\n",
    "- Among the top 500 contributors, most of the contributions are quite old. This might be normal or not (domain knowledge of how quickly SF is developing is required)\n",
    "\n",
    "- To assess if the contributions are up to date, we can cross-validate the objects from the map with the objects/spots obtained from the Google Map API. You can craft an XML message to send to the Google API and get the coordinates in return. You can then validate the coordinates returned with the coordinates you have [source] (http://stackoverflow.com/questions/682093/address-validation-using-google-maps-api). This is not a terribly involved effort and would lead to improvement in benchmarking the data quality."
   ]
  },
  {
   "cell_type": "code",
   "execution_count": 20,
   "metadata": {
    "collapsed": false,
    "scrolled": true
   },
   "outputs": [
    {
     "name": "stdout",
     "output_type": "stream",
     "text": [
      "[{u'_id': u'oldtopos', u'count': 334076},\n",
      " {u'_id': u'KindredCoda', u'count': 144613},\n",
      " {u'_id': u'osmmaker', u'count': 140043},\n",
      " {u'_id': u'DanHomerick', u'count': 119462},\n",
      " {u'_id': u'nmixter', u'count': 77785},\n",
      " {u'_id': u'woodpeck_fixbot', u'count': 46008},\n",
      " {u'_id': u'StellanL', u'count': 43335},\n",
      " {u'_id': u'oba510', u'count': 38785},\n",
      " {u'_id': u'dchiles', u'count': 38472},\n",
      " {u'_id': u'Speight', u'count': 30346}]\n"
     ]
    }
   ],
   "source": [
    "#     pipeline = [{\"$group\":{\"_id\": \"$created.user\", \"count\":{\"$sum\": 1}}},\n",
    "#                 {\"$sort\":{\"count\": -1}}, {\"$limit\": 10}]"
   ]
  },
  {
   "cell_type": "markdown",
   "metadata": {},
   "source": [
    "###User contribution demographics"
   ]
  },
  {
   "cell_type": "code",
   "execution_count": 22,
   "metadata": {
    "collapsed": true
   },
   "outputs": [],
   "source": [
    "#     pipeline = [{\"$group\":{\"_id\": \"$created.user\", \"count\":{\"$sum\": 1}}},\n",
    "#                 {\"$sort\":{\"count\": -1}}]"
   ]
  },
  {
   "cell_type": "code",
   "execution_count": 50,
   "metadata": {
    "collapsed": false
   },
   "outputs": [
    {
     "name": "stdout",
     "output_type": "stream",
     "text": [
      "Top 50 users contribute to 0.903069722967 percent of content.\n",
      "Top 100 users contribute to 0.958983858164 percent of content.\n",
      "Top 150 users contribute to 0.977836454446 percent of content.\n",
      "Top 200 users contribute to 0.986199477663 percent of content.\n",
      "Top 250 users contribute to 0.990499237459 percent of content.\n",
      "Top 300 users contribute to 0.993142244261 percent of content.\n",
      "Top 350 users contribute to 0.994950482772 percent of content.\n",
      "Top 400 users contribute to 0.996272944942 percent of content.\n",
      "Top 450 users contribute to 0.997200394246 percent of content.\n",
      "Top 500 users contribute to 0.997874089329 percent of content.\n"
     ]
    }
   ],
   "source": [
    "for j in xrange(50, 550, 50):\n",
    "    top = sum([i['count'] for i in user_contribution[0:j]])\n",
    "    whole = float(db.sf1.find().count())\n",
    "    print 'Top {} users contribute to {} percent of content.'.format(j, top/whole)"
   ]
  },
  {
   "cell_type": "code",
   "execution_count": 63,
   "metadata": {
    "collapsed": false
   },
   "outputs": [],
   "source": [
    "#     pipeline = [{\"$group\":{\"_id\": {\"timestamp\": \"$created.timestamp\", \n",
    "#                     \"user\": \"$created.user\"},\n",
    "#                 \"count\":{\"$sum\": 1}}}]"
   ]
  },
  {
   "cell_type": "code",
   "execution_count": 208,
   "metadata": {
    "collapsed": false
   },
   "outputs": [
    {
     "data": {
      "text/plain": [
       "year\n",
       "2007      4101\n",
       "2008     67897\n",
       "2009    195716\n",
       "2010    140365\n",
       "2011    409696\n",
       "2012    292355\n",
       "2013    451050\n",
       "dtype: float64"
      ]
     },
     "execution_count": 208,
     "metadata": {},
     "output_type": "execute_result"
    }
   ],
   "source": [
    "user_time_sums.set_index('user').loc[x[0:500]].sum(0)\n",
    "# among the top 500 contributors most of the contributions are quite old"
   ]
  },
  {
   "cell_type": "markdown",
   "metadata": {},
   "source": [
    "###Top 10 amenities"
   ]
  },
  {
   "cell_type": "code",
   "execution_count": 209,
   "metadata": {
    "collapsed": false
   },
   "outputs": [
    {
     "name": "stdout",
     "output_type": "stream",
     "text": [
      "[{u'_id': u'parking', u'count': 2958},\n",
      " {u'_id': u'restaurant', u'count': 1857},\n",
      " {u'_id': u'school', u'count': 1338},\n",
      " {u'_id': u'place_of_worship', u'count': 1064},\n",
      " {u'_id': u'fire_hydrant', u'count': 698},\n",
      " {u'_id': u'post_box', u'count': 588},\n",
      " {u'_id': u'cafe', u'count': 574},\n",
      " {u'_id': u'bench', u'count': 445},\n",
      " {u'_id': u'fast_food', u'count': 436},\n",
      " {u'_id': u'drinking_water', u'count': 333}]\n"
     ]
    }
   ],
   "source": [
    "#     pipeline = [{\"$match\": {\"amenity\":{\"$exists\":1}}}, \n",
    "#                 {\"$group\": {\"_id\":\"$amenity\", \"count\":{\"$sum\": 1}}}, \n",
    "#                 {\"$sort\": {\"count\": -1}}, {\"$limit\": 10}]\n",
    "\n",
    "# surprising to see parking is the top 1 result. usually tough to find parking in SF!"
   ]
  },
  {
   "cell_type": "markdown",
   "metadata": {},
   "source": [
    "###Top 10 religions"
   ]
  },
  {
   "cell_type": "code",
   "execution_count": 211,
   "metadata": {
    "collapsed": false
   },
   "outputs": [
    {
     "name": "stdout",
     "output_type": "stream",
     "text": [
      "[{u'_id': u'christian', u'count': 979},\n",
      " {u'_id': None, u'count': 45},\n",
      " {u'_id': u'buddhist', u'count': 16},\n",
      " {u'_id': u'jewish', u'count': 14},\n",
      " {u'_id': u'muslim', u'count': 4},\n",
      " {u'_id': u'unitarian', u'count': 2},\n",
      " {u'_id': u'scientologist', u'count': 2},\n",
      " {u'_id': u'shinto', u'count': 1},\n",
      " {u'_id': u'unitarian_universalist', u'count': 1}]\n"
     ]
    }
   ],
   "source": [
    "#     pipeline = [{\"$match\": {\"amenity\": {\"$exists\": 1}, \"amenity\" : \"place_of_worship\"}},\n",
    "#                 {\"$group\": {\"_id\": \"$religion\", \"count\": {\"$sum\": 1}}},\n",
    "#                 {\"$sort\": {\"count\": -1}}, {\"$limit\": 10}]\n",
    "    \n",
    "# Surprise to see scientologist on the list"
   ]
  },
  {
   "cell_type": "markdown",
   "metadata": {},
   "source": [
    "###Top 10 cuisines"
   ]
  },
  {
   "cell_type": "code",
   "execution_count": 212,
   "metadata": {
    "collapsed": false
   },
   "outputs": [
    {
     "name": "stdout",
     "output_type": "stream",
     "text": [
      "[{u'_id': None, u'count': 744},\n",
      " {u'_id': u'mexican', u'count': 135},\n",
      " {u'_id': u'pizza', u'count': 94},\n",
      " {u'_id': u'italian', u'count': 90},\n",
      " {u'_id': u'chinese', u'count': 85},\n",
      " {u'_id': u'japanese', u'count': 70},\n",
      " {u'_id': u'thai', u'count': 70},\n",
      " {u'_id': u'american', u'count': 59},\n",
      " {u'_id': u'burger', u'count': 54},\n",
      " {u'_id': u'indian', u'count': 47}]\n"
     ]
    }
   ],
   "source": [
    "#     pipeline = [{\"$match\": {\"amenity\": {\"$exists\":1}, \"amenity\": \"restaurant\"}}, \n",
    "#                 {\"$group\": {\"_id\": \"$cuisine\", \"count\": {\"$sum\": 1}}},        \n",
    "#                 {\"$sort\": {\"count\": -1}}, {\"$limit\": 10}]\n",
    "    \n",
    "# Semi-surprise to see the mexican genre take the top spot"
   ]
  },
  {
   "cell_type": "markdown",
   "metadata": {},
   "source": [
    "##Conclusion\n",
    "\n",
    "After this review of the data, it's clear that the San Francisco area is incomplete, although things that can be programmatically cleaned are cleaned. One salient feature is that most of the contributions from the contributors are quite old. Given the pace of development in SF, I'd suspect there would be more recent developments that are not captured."
   ]
  },
  {
   "cell_type": "code",
   "execution_count": null,
   "metadata": {
    "collapsed": true
   },
   "outputs": [],
   "source": []
  }
 ],
 "metadata": {
  "kernelspec": {
   "display_name": "Python 2",
   "language": "python",
   "name": "python2"
  },
  "language_info": {
   "codemirror_mode": {
    "name": "ipython",
    "version": 2
   },
   "file_extension": ".py",
   "mimetype": "text/x-python",
   "name": "python",
   "nbconvert_exporter": "python",
   "pygments_lexer": "ipython2",
   "version": "2.7.10"
  }
 },
 "nbformat": 4,
 "nbformat_minor": 0
}
