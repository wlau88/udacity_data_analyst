{
 "cells": [
  {
   "cell_type": "code",
   "execution_count": 5,
   "metadata": {
    "collapsed": true
   },
   "outputs": [],
   "source": [
    "import pandas as pd"
   ]
  },
  {
   "cell_type": "code",
   "execution_count": 6,
   "metadata": {
    "collapsed": true
   },
   "outputs": [],
   "source": [
    "weather = pd.read_csv('weather_underground.csv')"
   ]
  },
  {
   "cell_type": "code",
   "execution_count": 7,
   "metadata": {
    "collapsed": false
   },
   "outputs": [
    {
     "data": {
      "text/html": [
       "<div style=\"max-height:1000px;max-width:1500px;overflow:auto;\">\n",
       "<table border=\"1\" class=\"dataframe\">\n",
       "  <thead>\n",
       "    <tr style=\"text-align: right;\">\n",
       "      <th></th>\n",
       "      <th>date</th>\n",
       "      <th>maxpressurem</th>\n",
       "      <th>maxdewptm</th>\n",
       "      <th>maxpressurei</th>\n",
       "      <th>maxdewpti</th>\n",
       "      <th>since1julheatingdegreedaysnormal</th>\n",
       "      <th>heatingdegreedaysnormal</th>\n",
       "      <th>since1sepcoolingdegreedaysnormal</th>\n",
       "      <th>hail</th>\n",
       "      <th>since1julsnowfallm</th>\n",
       "      <th>...</th>\n",
       "      <th>precipi</th>\n",
       "      <th>snowfalli</th>\n",
       "      <th>since1jancoolingdegreedaysnormal</th>\n",
       "      <th>precipm</th>\n",
       "      <th>snowfallm</th>\n",
       "      <th>thunder</th>\n",
       "      <th>monthtodateheatingdegreedays</th>\n",
       "      <th>meantempi</th>\n",
       "      <th>maxvism</th>\n",
       "      <th>meantempm</th>\n",
       "    </tr>\n",
       "  </thead>\n",
       "  <tbody>\n",
       "    <tr>\n",
       "      <th>0</th>\n",
       "      <td> 2011-05-01</td>\n",
       "      <td> 1026</td>\n",
       "      <td>  6</td>\n",
       "      <td> 30.31</td>\n",
       "      <td> 42</td>\n",
       "      <td> 4646</td>\n",
       "      <td> 8</td>\n",
       "      <td>NaN</td>\n",
       "      <td> 0</td>\n",
       "      <td> 157.23</td>\n",
       "      <td>...</td>\n",
       "      <td> 0.0</td>\n",
       "      <td> 0</td>\n",
       "      <td> 13</td>\n",
       "      <td>  0.0</td>\n",
       "      <td> 0</td>\n",
       "      <td> 0</td>\n",
       "      <td>  5</td>\n",
       "      <td> 60</td>\n",
       "      <td> 16</td>\n",
       "      <td> 16</td>\n",
       "    </tr>\n",
       "    <tr>\n",
       "      <th>1</th>\n",
       "      <td> 2011-05-02</td>\n",
       "      <td> 1026</td>\n",
       "      <td> 10</td>\n",
       "      <td> 30.31</td>\n",
       "      <td> 50</td>\n",
       "      <td> 4653</td>\n",
       "      <td> 7</td>\n",
       "      <td>NaN</td>\n",
       "      <td> 0</td>\n",
       "      <td> 157.23</td>\n",
       "      <td>...</td>\n",
       "      <td> 0.0</td>\n",
       "      <td> 0</td>\n",
       "      <td> 14</td>\n",
       "      <td>  0.0</td>\n",
       "      <td> 0</td>\n",
       "      <td> 0</td>\n",
       "      <td> 13</td>\n",
       "      <td> 57</td>\n",
       "      <td> 16</td>\n",
       "      <td> 14</td>\n",
       "    </tr>\n",
       "    <tr>\n",
       "      <th>2</th>\n",
       "      <td> 2011-05-03</td>\n",
       "      <td> 1021</td>\n",
       "      <td> 15</td>\n",
       "      <td> 30.14</td>\n",
       "      <td> 59</td>\n",
       "      <td> 4660</td>\n",
       "      <td> 7</td>\n",
       "      <td>NaN</td>\n",
       "      <td> 0</td>\n",
       "      <td> 157.23</td>\n",
       "      <td>...</td>\n",
       "      <td> 0.0</td>\n",
       "      <td> 0</td>\n",
       "      <td> 15</td>\n",
       "      <td>  0.0</td>\n",
       "      <td> 0</td>\n",
       "      <td> 0</td>\n",
       "      <td> 13</td>\n",
       "      <td> 65</td>\n",
       "      <td> 16</td>\n",
       "      <td> 18</td>\n",
       "    </tr>\n",
       "    <tr>\n",
       "      <th>3</th>\n",
       "      <td> 2011-05-04</td>\n",
       "      <td> 1017</td>\n",
       "      <td> 14</td>\n",
       "      <td> 30.03</td>\n",
       "      <td> 57</td>\n",
       "      <td> 4667</td>\n",
       "      <td> 7</td>\n",
       "      <td>NaN</td>\n",
       "      <td> 0</td>\n",
       "      <td> 157.23</td>\n",
       "      <td>...</td>\n",
       "      <td> 0.5</td>\n",
       "      <td> 0</td>\n",
       "      <td> 16</td>\n",
       "      <td> 12.7</td>\n",
       "      <td> 0</td>\n",
       "      <td> 0</td>\n",
       "      <td> 23</td>\n",
       "      <td> 55</td>\n",
       "      <td> 16</td>\n",
       "      <td> 13</td>\n",
       "    </tr>\n",
       "    <tr>\n",
       "      <th>4</th>\n",
       "      <td> 2011-05-05</td>\n",
       "      <td> 1016</td>\n",
       "      <td>  4</td>\n",
       "      <td> 30.01</td>\n",
       "      <td> 39</td>\n",
       "      <td> 4673</td>\n",
       "      <td> 6</td>\n",
       "      <td>NaN</td>\n",
       "      <td> 0</td>\n",
       "      <td> 157.23</td>\n",
       "      <td>...</td>\n",
       "      <td> 0.0</td>\n",
       "      <td> 0</td>\n",
       "      <td> 17</td>\n",
       "      <td>  0.0</td>\n",
       "      <td> 0</td>\n",
       "      <td> 0</td>\n",
       "      <td> 32</td>\n",
       "      <td> 56</td>\n",
       "      <td> 16</td>\n",
       "      <td> 13</td>\n",
       "    </tr>\n",
       "  </tbody>\n",
       "</table>\n",
       "<p>5 rows × 70 columns</p>\n",
       "</div>"
      ],
      "text/plain": [
       "         date  maxpressurem  maxdewptm  maxpressurei  maxdewpti  \\\n",
       "0  2011-05-01          1026          6         30.31         42   \n",
       "1  2011-05-02          1026         10         30.31         50   \n",
       "2  2011-05-03          1021         15         30.14         59   \n",
       "3  2011-05-04          1017         14         30.03         57   \n",
       "4  2011-05-05          1016          4         30.01         39   \n",
       "\n",
       "   since1julheatingdegreedaysnormal  heatingdegreedaysnormal  \\\n",
       "0                              4646                        8   \n",
       "1                              4653                        7   \n",
       "2                              4660                        7   \n",
       "3                              4667                        7   \n",
       "4                              4673                        6   \n",
       "\n",
       "   since1sepcoolingdegreedaysnormal  hail  since1julsnowfallm    ...      \\\n",
       "0                               NaN     0              157.23    ...       \n",
       "1                               NaN     0              157.23    ...       \n",
       "2                               NaN     0              157.23    ...       \n",
       "3                               NaN     0              157.23    ...       \n",
       "4                               NaN     0              157.23    ...       \n",
       "\n",
       "   precipi  snowfalli  since1jancoolingdegreedaysnormal  precipm  snowfallm  \\\n",
       "0      0.0          0                                13      0.0          0   \n",
       "1      0.0          0                                14      0.0          0   \n",
       "2      0.0          0                                15      0.0          0   \n",
       "3      0.5          0                                16     12.7          0   \n",
       "4      0.0          0                                17      0.0          0   \n",
       "\n",
       "   thunder  monthtodateheatingdegreedays  meantempi  maxvism  meantempm  \n",
       "0        0                             5         60       16         16  \n",
       "1        0                            13         57       16         14  \n",
       "2        0                            13         65       16         18  \n",
       "3        0                            23         55       16         13  \n",
       "4        0                            32         56       16         13  \n",
       "\n",
       "[5 rows x 70 columns]"
      ]
     },
     "execution_count": 7,
     "metadata": {},
     "output_type": "execute_result"
    }
   ],
   "source": [
    "weather.head()"
   ]
  },
  {
   "cell_type": "code",
   "execution_count": 4,
   "metadata": {
    "collapsed": false
   },
   "outputs": [
    {
     "data": {
      "text/plain": [
       "Index([u'date', u'maxpressurem', u'maxdewptm', u'maxpressurei', u'maxdewpti', u'since1julheatingdegreedaysnormal', u'heatingdegreedaysnormal', u'since1sepcoolingdegreedaysnormal', u'hail', u'since1julsnowfallm', u'since1julheatingdegreedays', u'maxvisi', u'since1sepheatingdegreedaysnormal', u'heatingdegreedays', u'mindewptm', u'since1sepheatingdegreedays', u'maxwspdm', u'since1julsnowfalli', u'since1sepcoolingdegreedays', u'snow', u'meanvism', u'meandewptm', u'snowdepthm', u'meanvisi', u'fog', u'snowdepthi', u'minvism', u'since1jancoolingdegreedays', u'minvisi', u'coolingdegreedaysnormal', u'gdegreedays', u'maxwspdi', u'meanwindspdi', u'meanpressurei', u'monthtodateheatingdegreedaysnormal', u'meanwindspdm', u'meanpressurem', u'tornado', u'mindewpti', u'mintempi', u'meandewpti', u'rain', u'mintempm', u'minhumidity', u'precipsource', u'minwspdi', u'meanwdird', u'meanwdire', u'minwspdm', u'monthtodatesnowfalli', u'monthtodatecoolingdegreedaysnormal', u'monthtodatesnowfallm', u'maxhumidity', u'coolingdegreedays', u'maxtempm', u'minpressurei', u'monthtodatecoolingdegreedays', u'maxtempi', u'minpressurem', u'humidity', u'precipi', u'snowfalli', u'since1jancoolingdegreedaysnormal', u'precipm', u'snowfallm', u'thunder', u'monthtodateheatingdegreedays', u'meantempi', u'maxvism', u'meantempm'], dtype='object')"
      ]
     },
     "execution_count": 4,
     "metadata": {},
     "output_type": "execute_result"
    }
   ],
   "source": [
    "weather.columns"
   ]
  },
  {
   "cell_type": "code",
   "execution_count": 8,
   "metadata": {
    "collapsed": false
   },
   "outputs": [
    {
     "data": {
      "text/plain": [
       "0     0\n",
       "1     0\n",
       "2     0\n",
       "3     1\n",
       "4     0\n",
       "5     0\n",
       "6     0\n",
       "7     0\n",
       "8     0\n",
       "9     0\n",
       "10    0\n",
       "11    0\n",
       "12    0\n",
       "13    0\n",
       "14    1\n",
       "15    1\n",
       "16    1\n",
       "17    1\n",
       "18    1\n",
       "19    1\n",
       "20    1\n",
       "21    0\n",
       "22    1\n",
       "23    0\n",
       "24    0\n",
       "25    0\n",
       "26    0\n",
       "27    0\n",
       "28    0\n",
       "29    1\n",
       "Name: rain, dtype: int64"
      ]
     },
     "execution_count": 8,
     "metadata": {},
     "output_type": "execute_result"
    }
   ],
   "source": [
    "weather['rain']"
   ]
  },
  {
   "cell_type": "code",
   "execution_count": 10,
   "metadata": {
    "collapsed": false
   },
   "outputs": [],
   "source": [
    "import pandasql"
   ]
  },
  {
   "cell_type": "code",
   "execution_count": null,
   "metadata": {
    "collapsed": true
   },
   "outputs": [],
   "source": []
  }
 ],
 "metadata": {
  "kernelspec": {
   "display_name": "Python 2",
   "language": "python",
   "name": "python2"
  },
  "language_info": {
   "codemirror_mode": {
    "name": "ipython",
    "version": 2
   },
   "file_extension": ".py",
   "mimetype": "text/x-python",
   "name": "python",
   "nbconvert_exporter": "python",
   "pygments_lexer": "ipython2",
   "version": "2.7.10"
  }
 },
 "nbformat": 4,
 "nbformat_minor": 0
}
