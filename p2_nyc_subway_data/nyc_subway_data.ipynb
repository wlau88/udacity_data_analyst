{
 "cells": [
  {
   "cell_type": "markdown",
   "metadata": {},
   "source": [
    "###Problem Set 2"
   ]
  },
  {
   "cell_type": "code",
   "execution_count": 1,
   "metadata": {
    "collapsed": true
   },
   "outputs": [],
   "source": [
    "import pandas\n",
    "import pandasql\n",
    "\n",
    "\n",
    "def num_rainy_days(filename):\n",
    "    '''\n",
    "    This function should run a SQL query on a dataframe of\n",
    "    weather data.  The SQL query should return one column and\n",
    "    one row - a count of the number of days in the dataframe where\n",
    "    the rain column is equal to 1 (i.e., the number of days it\n",
    "    rained).  The dataframe will be titled 'weather_data'. You'll\n",
    "    need to provide the SQL query.  You might find SQL's count function\n",
    "    useful for this exercise.  You can read more about it here:\n",
    "    \n",
    "    https://dev.mysql.com/doc/refman/5.1/en/counting-rows.html\n",
    "    \n",
    "    You might also find that interpreting numbers as integers or floats may not\n",
    "    work initially.  In order to get around this issue, it may be useful to cast\n",
    "    these numbers as integers.  This can be done by writing cast(column as integer).\n",
    "    So for example, if we wanted to cast the maxtempi column as an integer, we would actually\n",
    "    write something like where cast(maxtempi as integer) = 76, as opposed to simply \n",
    "    where maxtempi = 76.\n",
    "    \n",
    "    You can see the weather data that we are passing in below:\n",
    "    https://www.dropbox.com/s/7sf0yqc9ykpq3w8/weather_underground.csv\n",
    "    '''\n",
    "    weather_data = pandas.read_csv(filename)\n",
    "\n",
    "    q = \"\"\"\n",
    "    SELECT COUNT(1) \n",
    "    FROM weather_data\n",
    "    WHERE rain = 1\n",
    "    \"\"\"\n",
    "    \n",
    "    #Execute your SQL command against the pandas frame\n",
    "    rainy_days = pandasql.sqldf(q.lower(), locals())\n",
    "    return rainy_days"
   ]
  },
  {
   "cell_type": "code",
   "execution_count": 2,
   "metadata": {
    "collapsed": true
   },
   "outputs": [],
   "source": [
    "import pandas\n",
    "import pandasql\n",
    "\n",
    "# temp of foggy and non foggy days\n",
    "def max_temp_aggregate_by_fog(filename):\n",
    "    '''\n",
    "    This function should run a SQL query on a dataframe of\n",
    "    weather data.  The SQL query should return two columns and\n",
    "    two rows - whether it was foggy or not (0 or 1) and the max\n",
    "    maxtempi for that fog value (i.e., the maximum max temperature\n",
    "    for both foggy and non-foggy days).  The dataframe will be \n",
    "    titled 'weather_data'. You'll need to provide the SQL query.\n",
    "    \n",
    "    You might also find that interpreting numbers as integers or floats may not\n",
    "    work initially.  In order to get around this issue, it may be useful to cast\n",
    "    these numbers as integers.  This can be done by writing cast(column as integer).\n",
    "    So for example, if we wanted to cast the maxtempi column as an integer, we would actually\n",
    "    write something like where cast(maxtempi as integer) = 76, as opposed to simply \n",
    "    where maxtempi = 76.\n",
    "    \n",
    "    You can see the weather data that we are passing in below:\n",
    "    https://www.dropbox.com/s/7sf0yqc9ykpq3w8/weather_underground.csv\n",
    "    '''\n",
    "    weather_data = pandas.read_csv(filename)\n",
    "\n",
    "    q = \"\"\"\n",
    "    SELECT fog, MAX(maxtempi)\n",
    "    FROM weather_data\n",
    "    GROUP BY fog\n",
    "    \"\"\"\n",
    "    \n",
    "    #Execute your SQL command against the pandas frame\n",
    "    foggy_days = pandasql.sqldf(q.lower(), locals())\n",
    "    return foggy_days"
   ]
  },
  {
   "cell_type": "code",
   "execution_count": 3,
   "metadata": {
    "collapsed": true
   },
   "outputs": [],
   "source": [
    "import pandas\n",
    "import pandasql\n",
    "\n",
    "# Mean Temp on Weekends\n",
    "def avg_weekend_temperature(filename):\n",
    "    '''\n",
    "    This function should run a SQL query on a dataframe of\n",
    "    weather data.  The SQL query should return one column and\n",
    "    one row - the average meantempi on days that are a Saturday\n",
    "    or Sunday (i.e., the the average mean temperature on weekends).\n",
    "    The dataframe will be titled 'weather_data' and you can access\n",
    "    the date in the dataframe via the 'date' column.\n",
    "    \n",
    "    You'll need to provide  the SQL query.\n",
    "    \n",
    "    You might also find that interpreting numbers as integers or floats may not\n",
    "    work initially.  In order to get around this issue, it may be useful to cast\n",
    "    these numbers as integers.  This can be done by writing cast(column as integer).\n",
    "    So for example, if we wanted to cast the maxtempi column as an integer, we would actually\n",
    "    write something like where cast(maxtempi as integer) = 76, as opposed to simply \n",
    "    where maxtempi = 76.\n",
    "    \n",
    "    Also, you can convert dates to days of the week via the 'strftime' keyword in SQL.\n",
    "    For example, cast (strftime('%w', date) as integer) will return 0 if the date\n",
    "    is a Sunday or 6 if the date is a Saturday.\n",
    "    \n",
    "    You can see the weather data that we are passing in below:\n",
    "    https://www.dropbox.com/s/7sf0yqc9ykpq3w8/weather_underground.csv\n",
    "    '''\n",
    "    weather_data = pandas.read_csv(filename)\n",
    "\n",
    "    q = \"\"\"\n",
    "    SELECT AVG(meantempi)\n",
    "    FROM weather_data\n",
    "    WHERE cast(strftime('%w', date) as integer) = 0 \n",
    "    OR cast(strftime('%w', date) as integer) = 6\n",
    "    \"\"\"\n",
    "    \n",
    "    #Execute your SQL command against the pandas frame\n",
    "    mean_temp_weekends = pandasql.sqldf(q.lower(), locals())\n",
    "    return mean_temp_weekends"
   ]
  },
  {
   "cell_type": "code",
   "execution_count": 4,
   "metadata": {
    "collapsed": true
   },
   "outputs": [],
   "source": [
    "import pandas\n",
    "import pandasql\n",
    "\n",
    "# Mean Temp on Rainy Days\n",
    "def avg_min_temperature(filename):\n",
    "    '''\n",
    "    This function should run a SQL query on a dataframe of\n",
    "    weather data. More specifically you want to find the average\n",
    "    minimum temperature (mintempi column of the weather dataframe) on \n",
    "    rainy days where the minimum temperature is greater than 55 degrees.\n",
    "    \n",
    "    You might also find that interpreting numbers as integers or floats may not\n",
    "    work initially.  In order to get around this issue, it may be useful to cast\n",
    "    these numbers as integers.  This can be done by writing cast(column as integer).\n",
    "    So for example, if we wanted to cast the maxtempi column as an integer, we would actually\n",
    "    write something like where cast(maxtempi as integer) = 76, as opposed to simply \n",
    "    where maxtempi = 76.\n",
    "    \n",
    "    You can see the weather data that we are passing in below:\n",
    "    https://www.dropbox.com/s/7sf0yqc9ykpq3w8/weather_underground.csv\n",
    "    '''\n",
    "    weather_data = pandas.read_csv(filename)\n",
    "\n",
    "    q = \"\"\"\n",
    "    SELECT AVG(mintempi)\n",
    "    FROM weather_data\n",
    "    WHERE mintempi > 55 and rain = 1\n",
    "    \"\"\"\n",
    "    \n",
    "    #Execute your SQL command against the pandas frame\n",
    "    avg_min_temp_rainy = pandasql.sqldf(q.lower(), locals())\n",
    "    return avg_min_temp_rainy"
   ]
  },
  {
   "cell_type": "code",
   "execution_count": 5,
   "metadata": {
    "collapsed": true
   },
   "outputs": [],
   "source": [
    "import csv\n",
    "\n",
    "# Fixing Turnstile Data\n",
    "def fix_turnstile_data(filenames):\n",
    "    '''\n",
    "    Filenames is a list of MTA Subway turnstile text files. A link to an example\n",
    "    MTA Subway turnstile text file can be seen at the URL below:\n",
    "    http://web.mta.info/developers/data/nyct/turnstile/turnstile_110507.txt\n",
    "    \n",
    "    As you can see, there are numerous data points included in each row of the\n",
    "    a MTA Subway turnstile text file. \n",
    "\n",
    "    You want to write a function that will update each row in the text\n",
    "    file so there is only one entry per row. A few examples below:\n",
    "    A002,R051,02-00-00,05-28-11,00:00:00,REGULAR,003178521,001100739\n",
    "    A002,R051,02-00-00,05-28-11,04:00:00,REGULAR,003178541,001100746\n",
    "    A002,R051,02-00-00,05-28-11,08:00:00,REGULAR,003178559,001100775\n",
    "    \n",
    "    Write the updates to a different text file in the format of \"updated_\" + filename.\n",
    "    For example:\n",
    "        1) if you read in a text file called \"turnstile_110521.txt\"\n",
    "        2) you should write the updated data to \"updated_turnstile_110521.txt\"\n",
    "\n",
    "    The order of the fields should be preserved. Remember to read through the \n",
    "    Instructor Notes below for more details on the task. \n",
    "    \n",
    "    In addition, here is a CSV reader/writer introductory tutorial:\n",
    "    http://goo.gl/HBbvyy\n",
    "    \n",
    "    You can see a sample of the turnstile text file that's passed into this function\n",
    "    and the the corresponding updated file in the links below:\n",
    "    \n",
    "    Sample input file:\n",
    "    https://www.dropbox.com/s/mpin5zv4hgrx244/turnstile_110528.txt\n",
    "    Sample updated file:\n",
    "    https://www.dropbox.com/s/074xbgio4c39b7h/solution_turnstile_110528.txt\n",
    "    '''\n",
    "    for name in filenames:\n",
    "        # your code here\n",
    "        f_in = open(name, 'r')\n",
    "        f_out = open('updated_' + name, 'w')\n",
    "        \n",
    "        reader_in = csv.reader(f_in, delimiter=',')\n",
    "        writer_out = csv.writer(f_out, delimiter=',')\n",
    "        \n",
    "        for line in reader_in:\n",
    "            first = line[0]\n",
    "            second = line[1]\n",
    "            third = line[2]\n",
    "            for i in xrange(3, len(line), 5):\n",
    "                out_line = [first, second, third] + line[i:i+5]\n",
    "                writer_out.writerow(out_line)\n",
    "                \n",
    "        f_in.close()\n",
    "        f_out.close()       "
   ]
  },
  {
   "cell_type": "code",
   "execution_count": 6,
   "metadata": {
    "collapsed": true
   },
   "outputs": [],
   "source": [
    "import csv\n",
    "\n",
    "def create_master_turnstile_file(filenames, output_file):\n",
    "    '''\n",
    "    Write a function that takes the files in the list filenames, which all have the \n",
    "    columns 'C/A, UNIT, SCP, DATEn, TIMEn, DESCn, ENTRIESn, EXITSn', and consolidates\n",
    "    them into one file located at output_file.  There should be ONE row with the column\n",
    "    headers, located at the top of the file. The input files do not have column header\n",
    "    rows of their own.\n",
    "    \n",
    "    For example, if file_1 has:\n",
    "    line 1 ...\n",
    "    line 2 ...\n",
    "    \n",
    "    and another file, file_2 has:\n",
    "    line 3 ...\n",
    "    line 4 ...\n",
    "    line 5 ...\n",
    "    \n",
    "    We need to combine file_1 and file_2 into a master_file like below:\n",
    "     'C/A, UNIT, SCP, DATEn, TIMEn, DESCn, ENTRIESn, EXITSn'\n",
    "    line 1 ...\n",
    "    line 2 ...\n",
    "    line 3 ...\n",
    "    line 4 ...\n",
    "    line 5 ...\n",
    "    '''\n",
    "    with open(output_file, 'w') as master_file:\n",
    "        master_file.write('C/A,UNIT,SCP,DATEn,TIMEn,DESCn,ENTRIESn,EXITSn\\n')\n",
    "        for filename in filenames:\n",
    "            # your code here\n",
    "            f_in = open(filename, 'r')\n",
    "            reader_in = csv.reader(f_in, delimiter=',')\n",
    "            for line in reader_in:\n",
    "                first = line[0]\n",
    "                second = line[1]\n",
    "                third = line[2]\n",
    "                for i in xrange(3, len(line), 5):\n",
    "                    out_line = [first, second, third] + line[i:i+5]\n",
    "                    master_file.write((',').join(out_line) + '\\n')\n",
    "            f_in.close()"
   ]
  },
  {
   "cell_type": "code",
   "execution_count": 7,
   "metadata": {
    "collapsed": true
   },
   "outputs": [],
   "source": [
    "import pandas as pd\n",
    "\n",
    "def filter_by_regular(filename):\n",
    "    '''\n",
    "    This function should read the csv file located at filename into a pandas dataframe,\n",
    "    and filter the dataframe to only rows where the 'DESCn' column has the value 'REGULAR'.\n",
    "    \n",
    "    For example, if the pandas dataframe is as follows:\n",
    "    ,C/A,UNIT,SCP,DATEn,TIMEn,DESCn,ENTRIESn,EXITSn\n",
    "    0,A002,R051,02-00-00,05-01-11,00:00:00,REGULAR,3144312,1088151\n",
    "    1,A002,R051,02-00-00,05-01-11,04:00:00,DOOR,3144335,1088159\n",
    "    2,A002,R051,02-00-00,05-01-11,08:00:00,REGULAR,3144353,1088177\n",
    "    3,A002,R051,02-00-00,05-01-11,12:00:00,DOOR,3144424,1088231\n",
    "    \n",
    "    The dataframe will look like below after filtering to only rows where DESCn column\n",
    "    has the value 'REGULAR':\n",
    "    0,A002,R051,02-00-00,05-01-11,00:00:00,REGULAR,3144312,1088151\n",
    "    2,A002,R051,02-00-00,05-01-11,08:00:00,REGULAR,3144353,1088177\n",
    "    '''\n",
    "    \n",
    "    turnstile_data = pd.read_csv(filename)\n",
    "    # your code here\n",
    "    turnstile_data = turnstile_data[turnstile_data['DESCn'] == 'REGULAR']\n",
    "    # more of your code here\n",
    "    return turnstile_data"
   ]
  },
  {
   "cell_type": "code",
   "execution_count": 8,
   "metadata": {
    "collapsed": true
   },
   "outputs": [],
   "source": [
    "import pandas\n",
    "\n",
    "def get_hourly_entries(df):\n",
    "    '''\n",
    "    The data in the MTA Subway Turnstile data reports on the cumulative\n",
    "    number of entries and exits per row.  Assume that you have a dataframe\n",
    "    called df that contains only the rows for a particular turnstile machine\n",
    "    (i.e., unique SCP, C/A, and UNIT).  This function should change\n",
    "    these cumulative entry numbers to a count of entries since the last reading\n",
    "    (i.e., entries since the last row in the dataframe).\n",
    "    \n",
    "    More specifically, you want to do two things:\n",
    "       1) Create a new column called ENTRIESn_hourly\n",
    "       2) Assign to the column the difference between ENTRIESn of the current row \n",
    "          and the previous row. If there is any NaN, fill/replace it with 1.\n",
    "    \n",
    "    You may find the pandas functions shift() and fillna() to be helpful in this exercise.\n",
    "    \n",
    "    Examples of what your dataframe should look like at the end of this exercise:\n",
    "    \n",
    "           C/A  UNIT       SCP     DATEn     TIMEn    DESCn  ENTRIESn    EXITSn  ENTRIESn_hourly\n",
    "    0     A002  R051  02-00-00  05-01-11  00:00:00  REGULAR   3144312   1088151                1\n",
    "    1     A002  R051  02-00-00  05-01-11  04:00:00  REGULAR   3144335   1088159               23\n",
    "    2     A002  R051  02-00-00  05-01-11  08:00:00  REGULAR   3144353   1088177               18\n",
    "    3     A002  R051  02-00-00  05-01-11  12:00:00  REGULAR   3144424   1088231               71\n",
    "    4     A002  R051  02-00-00  05-01-11  16:00:00  REGULAR   3144594   1088275              170\n",
    "    5     A002  R051  02-00-00  05-01-11  20:00:00  REGULAR   3144808   1088317              214\n",
    "    6     A002  R051  02-00-00  05-02-11  00:00:00  REGULAR   3144895   1088328               87\n",
    "    7     A002  R051  02-00-00  05-02-11  04:00:00  REGULAR   3144905   1088331               10\n",
    "    8     A002  R051  02-00-00  05-02-11  08:00:00  REGULAR   3144941   1088420               36\n",
    "    9     A002  R051  02-00-00  05-02-11  12:00:00  REGULAR   3145094   1088753              153\n",
    "    10    A002  R051  02-00-00  05-02-11  16:00:00  REGULAR   3145337   1088823              243\n",
    "    ...\n",
    "    ...\n",
    "\n",
    "    '''\n",
    "    #your code here\n",
    "    df['ENTRIESn_hourly'] = df['ENTRIESn'] - df.shift(periods=1, axis=0)['ENTRIESn']\n",
    "    df['ENTRIESn_hourly'].fillna(1, inplace=True)\n",
    "    \n",
    "    return df"
   ]
  },
  {
   "cell_type": "code",
   "execution_count": 9,
   "metadata": {
    "collapsed": true
   },
   "outputs": [],
   "source": [
    "import pandas\n",
    "\n",
    "def get_hourly_exits(df):\n",
    "    '''\n",
    "    The data in the MTA Subway Turnstile data reports on the cumulative\n",
    "    number of entries and exits per row.  Assume that you have a dataframe\n",
    "    called df that contains only the rows for a particular turnstile machine\n",
    "    (i.e., unique SCP, C/A, and UNIT).  This function should change\n",
    "    these cumulative exit numbers to a count of exits since the last reading\n",
    "    (i.e., exits since the last row in the dataframe).\n",
    "    \n",
    "    More specifically, you want to do two things:\n",
    "       1) Create a new column called EXITSn_hourly\n",
    "       2) Assign to the column the difference between EXITSn of the current row \n",
    "          and the previous row. If there is any NaN, fill/replace it with 0.\n",
    "    \n",
    "    You may find the pandas functions shift() and fillna() to be helpful in this exercise.\n",
    "    \n",
    "    Example dataframe below:\n",
    "\n",
    "          Unnamed: 0   C/A  UNIT       SCP     DATEn     TIMEn    DESCn  ENTRIESn    EXITSn  ENTRIESn_hourly  EXITSn_hourly\n",
    "    0              0  A002  R051  02-00-00  05-01-11  00:00:00  REGULAR   3144312   1088151                0              0\n",
    "    1              1  A002  R051  02-00-00  05-01-11  04:00:00  REGULAR   3144335   1088159               23              8\n",
    "    2              2  A002  R051  02-00-00  05-01-11  08:00:00  REGULAR   3144353   1088177               18             18\n",
    "    3              3  A002  R051  02-00-00  05-01-11  12:00:00  REGULAR   3144424   1088231               71             54\n",
    "    4              4  A002  R051  02-00-00  05-01-11  16:00:00  REGULAR   3144594   1088275              170             44\n",
    "    5              5  A002  R051  02-00-00  05-01-11  20:00:00  REGULAR   3144808   1088317              214             42\n",
    "    6              6  A002  R051  02-00-00  05-02-11  00:00:00  REGULAR   3144895   1088328               87             11\n",
    "    7              7  A002  R051  02-00-00  05-02-11  04:00:00  REGULAR   3144905   1088331               10              3\n",
    "    8              8  A002  R051  02-00-00  05-02-11  08:00:00  REGULAR   3144941   1088420               36             89\n",
    "    9              9  A002  R051  02-00-00  05-02-11  12:00:00  REGULAR   3145094   1088753              153            333\n",
    "    '''\n",
    "    \n",
    "    #your code here\n",
    "    df['ENTRIESn_hourly'] = df['ENTRIESn'] - df.shift(periods=1, axis=0)['ENTRIESn']\n",
    "    df['ENTRIESn_hourly'].fillna(0, inplace=True)\n",
    "    \n",
    "    df['EXITSn_hourly'] = df['EXITSn'] - df.shift(periods=1, axis=0)['EXITSn']\n",
    "    df['EXITSn_hourly'].fillna(0, inplace=True)\n",
    "    return df"
   ]
  },
  {
   "cell_type": "code",
   "execution_count": 10,
   "metadata": {
    "collapsed": true
   },
   "outputs": [],
   "source": [
    "import pandas\n",
    "\n",
    "def time_to_hour(time):\n",
    "    '''\n",
    "    Given an input variable time that represents time in the format of:\n",
    "    \"00:00:00\" (hour:minutes:seconds)\n",
    "    \n",
    "    Write a function to extract the hour part from the input variable time\n",
    "    and return it as an integer. For example:\n",
    "        1) if hour is 00, your code should return 0\n",
    "        2) if hour is 01, your code should return 1\n",
    "        3) if hour is 21, your code should return 21\n",
    "        \n",
    "    Please return hour as an integer.\n",
    "    '''\n",
    "    \n",
    "    hour = int(time[0:2])\n",
    "    return hour"
   ]
  },
  {
   "cell_type": "code",
   "execution_count": 11,
   "metadata": {
    "collapsed": true
   },
   "outputs": [],
   "source": [
    "from datetime import datetime\n",
    "\n",
    "def reformat_subway_dates(date):\n",
    "    '''\n",
    "    The dates in our subway data are formatted in the format month-day-year.\n",
    "    The dates in our weather underground data are formatted year-month-day.\n",
    "    \n",
    "    In order to join these two data sets together, we'll want the dates formatted\n",
    "    the same way.  Write a function that takes as its input a date in the MTA Subway\n",
    "    data format, and returns a date in the weather underground format.\n",
    "    \n",
    "    Hint: \n",
    "    There are a couple of useful functions in the datetime library that will\n",
    "    help on this assignment, called strptime and strftime. \n",
    "    More info can be seen here and further in the documentation section:\n",
    "    http://docs.python.org/2/library/datetime.html#datetime.datetime.strptime\n",
    "    '''\n",
    "    date_formatted = datetime.strptime(date, '%m-%d-%y').strftime('%Y-%m-%d')\n",
    "    return date_formatted"
   ]
  },
  {
   "cell_type": "markdown",
   "metadata": {},
   "source": [
    "###Problem set 3"
   ]
  },
  {
   "cell_type": "code",
   "execution_count": 21,
   "metadata": {
    "collapsed": true
   },
   "outputs": [],
   "source": [
    "import pandas as pd\n",
    "%matplotlib inline\n",
    "\n",
    "turnstile_weather = pd.read_csv('turnstile_data_master_with_weather.csv')"
   ]
  },
  {
   "cell_type": "code",
   "execution_count": 20,
   "metadata": {
    "collapsed": true
   },
   "outputs": [],
   "source": [
    "import numpy as np\n",
    "import pandas\n",
    "import matplotlib.pyplot as plt\n",
    "\n",
    "def entries_histogram(turnstile_weather):\n",
    "    '''\n",
    "    Before we perform any analysis, it might be useful to take a\n",
    "    look at the data we're hoping to analyze. More specifically, let's \n",
    "    examine the hourly entries in our NYC subway data and determine what\n",
    "    distribution the data follows. This data is stored in a dataframe\n",
    "    called turnstile_weather under the ['ENTRIESn_hourly'] column.\n",
    "    \n",
    "    Let's plot two histograms on the same axes to show hourly\n",
    "    entries when raining vs. when not raining. Here's an example on how\n",
    "    to plot histograms with pandas and matplotlib:\n",
    "    turnstile_weather['column_to_graph'].hist()\n",
    "    \n",
    "    Your histogram may look similar to bar graph in the instructor notes below.\n",
    "    \n",
    "    You can read a bit about using matplotlib and pandas to plot histograms here:\n",
    "    http://pandas.pydata.org/pandas-docs/stable/visualization.html#histograms\n",
    "    \n",
    "    You can see the information contained within the turnstile weather data here:\n",
    "    https://www.dropbox.com/s/meyki2wl9xfa7yk/turnstile_data_master_with_weather.csv\n",
    "    '''\n",
    "    \n",
    "    plt.figure()\n",
    "    rain = turnstile_weather[turnstile_weather['rain'] == 1]\n",
    "    no_rain = turnstile_weather[turnstile_weather['rain'] == 0]\n",
    "    \n",
    "    rain['ENTRIESn_hourly'].hist(alpha=0.5, bins=20)\n",
    "    no_rain['ENTRIESn_hourly'].hist(alpha=0.5, bins=20)\n",
    "    \n",
    "    # data doesn't look normal so cannot use welch t-test\n",
    "    \n",
    "    # your code here to plot a historgram for hourly entries when it is raining\n",
    "    # turnstile_weather['...'] # your code here to plot a historgram for hourly entries when it is not raining\n",
    "    return plt"
   ]
  },
  {
   "cell_type": "code",
   "execution_count": 23,
   "metadata": {
    "collapsed": false
   },
   "outputs": [
    {
     "data": {
      "image/png": "[encoded data removed]",
      "text/plain": [
       "<matplotlib.figure.Figure at 0x10b50ad10>"
      ]
     },
     "metadata": {},
     "output_type": "display_data"
    }
   ],
   "source": [
    "entries_histogram(turnstile_weather);"
   ]
  },
  {
   "cell_type": "code",
   "execution_count": 13,
   "metadata": {
    "collapsed": true
   },
   "outputs": [],
   "source": [
    "import numpy as np\n",
    "import scipy\n",
    "import scipy.stats as ss\n",
    "import pandas\n",
    "\n",
    "def mann_whitney_plus_means(turnstile_weather):\n",
    "    '''\n",
    "    This function will consume the turnstile_weather dataframe containing\n",
    "    our final turnstile weather data. \n",
    "    \n",
    "    You will want to take the means and run the Mann Whitney U-test on the \n",
    "    ENTRIESn_hourly column in the turnstile_weather dataframe.\n",
    "    \n",
    "    This function should return:\n",
    "        1) the mean of entries with rain\n",
    "        2) the mean of entries without rain\n",
    "        3) the Mann-Whitney U-statistic and p-value comparing the number of entries\n",
    "           with rain and the number of entries without rain\n",
    "    \n",
    "    You should feel free to use scipy's Mann-Whitney implementation, and you \n",
    "    might also find it useful to use numpy's mean function.\n",
    "    \n",
    "    Here are the functions' documentation:\n",
    "    http://docs.scipy.org/doc/scipy/reference/generated/scipy.stats.mannwhitneyu.html\n",
    "    http://docs.scipy.org/doc/numpy/reference/generated/numpy.mean.html\n",
    "    \n",
    "    You can look at the final turnstile weather data at the link below:\n",
    "    https://www.dropbox.com/s/meyki2wl9xfa7yk/turnstile_data_master_with_weather.csv\n",
    "    '''\n",
    "    \n",
    "    ### YOUR CODE HERE ###\n",
    "    \n",
    "    rain = turnstile_weather[turnstile_weather['rain'] == 1]\n",
    "    no_rain = turnstile_weather[turnstile_weather['rain'] == 0]\n",
    "    \n",
    "    with_rain_mean = rain['ENTRIESn_hourly'].mean()\n",
    "    without_rain_mean = no_rain['ENTRIESn_hourly'].mean()\n",
    "    \n",
    "    U, p = ss.mannwhitneyu(rain['ENTRIESn_hourly'], no_rain['ENTRIESn_hourly'])\n",
    "    \n",
    "    return with_rain_mean, without_rain_mean, U, p # leave this line for the grader"
   ]
  },
  {
   "cell_type": "code",
   "execution_count": 25,
   "metadata": {
    "collapsed": false
   },
   "outputs": [
    {
     "data": {
      "text/plain": [
       "(1105.4463767458733, 1090.278780151855, 1924409167.0, 0.024999912793489721)"
      ]
     },
     "execution_count": 25,
     "metadata": {},
     "output_type": "execute_result"
    }
   ],
   "source": [
    "mann_whitney_plus_means(turnstile_weather)"
   ]
  },
  {
   "cell_type": "code",
   "execution_count": 14,
   "metadata": {
    "collapsed": true
   },
   "outputs": [],
   "source": [
    "import numpy as np\n",
    "import pandas\n",
    "import statsmodels.api as sm\n",
    "\n",
    "\"\"\"\n",
    "In this question, you need to:\n",
    "1) implement the linear_regression() procedure\n",
    "2) Select features (in the predictions procedure) and make predictions.\n",
    "\n",
    "\"\"\"\n",
    "\n",
    "def linear_regression(features, values):\n",
    "    \"\"\"\n",
    "    Perform linear regression given a data set with an arbitrary number of features.\n",
    "    \n",
    "    This can be the same code as in the lesson #3 exercise.\n",
    "    \"\"\"\n",
    "    features_with_intercept = sm.add_constant(features)\n",
    "    model = sm.OLS(values, features_with_intercept).fit()\n",
    "    result = model.params\n",
    "    intercept, params = result[0], result[1:]\n",
    "    \n",
    "    #print model.summary()\n",
    "    \n",
    "    return intercept, params\n",
    "\n",
    "def predictions(dataframe):\n",
    "    '''\n",
    "    The NYC turnstile data is stored in a pandas dataframe called weather_turnstile.\n",
    "    Using the information stored in the dataframe, let's predict the ridership of\n",
    "    the NYC subway using linear regression with gradient descent.\n",
    "    \n",
    "    You can download the complete turnstile weather dataframe here:\n",
    "    https://www.dropbox.com/s/meyki2wl9xfa7yk/turnstile_data_master_with_weather.csv    \n",
    "    \n",
    "    Your prediction should have a R^2 value of 0.40 or better.\n",
    "    You need to experiment using various input features contained in the dataframe. \n",
    "    We recommend that you don't use the EXITSn_hourly feature as an input to the \n",
    "    linear model because we cannot use it as a predictor: we cannot use exits \n",
    "    counts as a way to predict entry counts. \n",
    "    \n",
    "    Note: Due to the memory and CPU limitation of our Amazon EC2 instance, we will\n",
    "    give you a random subet (~10%) of the data contained in \n",
    "    turnstile_data_master_with_weather.csv. You are encouraged to experiment with \n",
    "    this exercise on your own computer, locally. If you do, you may want to complete Exercise\n",
    "    8 using gradient descent, or limit your number of features to 10 or so, since ordinary\n",
    "    least squares can be very slow for a large number of features.\n",
    "    \n",
    "    If you receive a \"server has encountered an error\" message, that means you are \n",
    "    hitting the 30-second limit that's placed on running your program. Try using a\n",
    "    smaller number of features.\n",
    "    '''\n",
    "    ################################ MODIFY THIS SECTION #####################################\n",
    "    # Select features. You should modify this section to try different features!             #\n",
    "    # We've selected rain, precipi, Hour, meantempi, and UNIT (as a dummy) to start you off. #\n",
    "    # See this page for more info about dummy variables:                                     #\n",
    "    # http://pandas.pydata.org/pandas-docs/stable/generated/pandas.get_dummies.html          #\n",
    "    ##########################################################################################\n",
    "    features = dataframe[['rain', 'precipi', 'meantempi', 'fog']]\n",
    "    dummy_units = pandas.get_dummies(dataframe['UNIT'], prefix='unit')\n",
    "    features = features.join(dummy_units)\n",
    "    dummy_hour = pandas.get_dummies(dataframe['Hour'], prefix='hour')\n",
    "    features = features.join(dummy_hour)\n",
    "    \n",
    "    # Values\n",
    "    values = dataframe['ENTRIESn_hourly']\n",
    "\n",
    "    # Perform linear regression\n",
    "    intercept, params = linear_regression(features, values)\n",
    "    \n",
    "    predictions = intercept + np.dot(features, params)\n",
    "    return predictions"
   ]
  },
  {
   "cell_type": "code",
   "execution_count": 15,
   "metadata": {
    "collapsed": true
   },
   "outputs": [],
   "source": [
    "import numpy as np\n",
    "import scipy\n",
    "import matplotlib.pyplot as plt\n",
    "\n",
    "def plot_residuals(turnstile_weather, predictions):\n",
    "    '''\n",
    "    Using the same methods that we used to plot a histogram of entries\n",
    "    per hour for our data, why don't you make a histogram of the residuals\n",
    "    (that is, the difference between the original hourly entry data and the predicted values).\n",
    "    Try different binwidths for your histogram.\n",
    "\n",
    "    Based on this residual histogram, do you have any insight into how our model\n",
    "    performed?  Reading a bit on this webpage might be useful:\n",
    "\n",
    "    http://www.itl.nist.gov/div898/handbook/pri/section2/pri24.htm\n",
    "    '''\n",
    "    \n",
    "    plt.figure()\n",
    "    (turnstile_weather['ENTRIESn_hourly'] - predictions).hist()\n",
    "    return plt"
   ]
  },
  {
   "cell_type": "code",
   "execution_count": 16,
   "metadata": {
    "collapsed": true
   },
   "outputs": [],
   "source": [
    "import numpy as np\n",
    "import scipy\n",
    "import matplotlib.pyplot as plt\n",
    "import sys\n",
    "\n",
    "def compute_r_squared(data, predictions):\n",
    "    '''\n",
    "    In exercise 5, we calculated the R^2 value for you. But why don't you try and\n",
    "    and calculate the R^2 value yourself.\n",
    "    \n",
    "    Given a list of original data points, and also a list of predicted data points,\n",
    "    write a function that will compute and return the coefficient of determination (R^2)\n",
    "    for this data.  numpy.mean() and numpy.sum() might both be useful here, but\n",
    "    not necessary.\n",
    "\n",
    "    Documentation about numpy.mean() and numpy.sum() below:\n",
    "    http://docs.scipy.org/doc/numpy/reference/generated/numpy.mean.html\n",
    "    http://docs.scipy.org/doc/numpy/reference/generated/numpy.sum.html\n",
    "    '''\n",
    "    \n",
    "    # your code here\n",
    "    r_squared = 1 - np.sum((data - predictions)**2)/np.sum((data - np.mean(data))**2)\n",
    "    \n",
    "    return r_squared"
   ]
  },
  {
   "cell_type": "markdown",
   "metadata": {},
   "source": [
    "###Problem set 4"
   ]
  },
  {
   "cell_type": "code",
   "execution_count": 17,
   "metadata": {
    "collapsed": true
   },
   "outputs": [],
   "source": [
    "from pandas import *\n",
    "from ggplot import *\n",
    "\n",
    "def plot_weather_data(turnstile_weather):\n",
    "    '''\n",
    "    You are passed in a dataframe called turnstile_weather. \n",
    "    Use turnstile_weather along with ggplot to make a data visualization\n",
    "    focused on the MTA and weather data we used in assignment #3.  \n",
    "    You should feel free to implement something that we discussed in class \n",
    "    (e.g., scatterplots, line plots, or histograms) or attempt to implement\n",
    "    something more advanced if you'd like.  \n",
    "\n",
    "    Here are some suggestions for things to investigate and illustrate:\n",
    "     * Ridership by time of day or day of week\n",
    "     * How ridership varies based on Subway station (UNIT)\n",
    "     * Which stations have more exits or entries at different times of day\n",
    "       (You can use UNIT as a proxy for subway station.)\n",
    "\n",
    "    If you'd like to learn more about ggplot and its capabilities, take\n",
    "    a look at the documentation at:\n",
    "    https://pypi.python.org/pypi/ggplot/\n",
    "     \n",
    "    You can check out:\n",
    "    https://www.dropbox.com/s/meyki2wl9xfa7yk/turnstile_data_master_with_weather.csv\n",
    "     \n",
    "    To see all the columns and data points included in the turnstile_weather \n",
    "    dataframe. \n",
    "     \n",
    "    However, due to the limitation of our Amazon EC2 server, we are giving you a random\n",
    "    subset, about 1/3 of the actual data in the turnstile_weather dataframe.\n",
    "    '''\n",
    "\n",
    "    plot = ggplot(aes(x='Hour', y='ENTRIESn_hourly'), \n",
    "                  data=turnstile_weather.groupby('Hour').mean().reset_index()) \\\n",
    "                  + geom_point(color='red') + geom_line(color='red')\n",
    "    return plot"
   ]
  },
  {
   "cell_type": "code",
   "execution_count": 18,
   "metadata": {
    "collapsed": true
   },
   "outputs": [],
   "source": [
    "from pandas import *\n",
    "from ggplot import *\n",
    "\n",
    "def plot_weather_data(turnstile_weather):\n",
    "    ''' \n",
    "    plot_weather_data is passed a dataframe called turnstile_weather. \n",
    "    Use turnstile_weather along with ggplot to make another data visualization\n",
    "    focused on the MTA and weather data we used in Project 3.\n",
    "    \n",
    "    Make a type of visualization different than what you did in the previous exercise.\n",
    "    Try to use the data in a different way (e.g., if you made a lineplot concerning \n",
    "    ridership and time of day in exercise #1, maybe look at weather and try to make a \n",
    "    histogram in this exercise). Or try to use multiple encodings in your graph if \n",
    "    you didn't in the previous exercise.\n",
    "    \n",
    "    You should feel free to implement something that we discussed in class \n",
    "    (e.g., scatterplots, line plots, or histograms) or attempt to implement\n",
    "    something more advanced if you'd like.\n",
    "\n",
    "    Here are some suggestions for things to investigate and illustrate:\n",
    "     * Ridership by time-of-day or day-of-week\n",
    "     * How ridership varies by subway station (UNIT)\n",
    "     * Which stations have more exits or entries at different times of day\n",
    "       (You can use UNIT as a proxy for subway station.)\n",
    "\n",
    "    If you'd like to learn more about ggplot and its capabilities, take\n",
    "    a look at the documentation at:\n",
    "    https://pypi.python.org/pypi/ggplot/\n",
    "     \n",
    "    You can check out the link \n",
    "    https://www.dropbox.com/s/meyki2wl9xfa7yk/turnstile_data_master_with_weather.csv\n",
    "    to see all the columns and data points included in the turnstile_weather \n",
    "    dataframe.\n",
    "     \n",
    "   However, due to the limitation of our Amazon EC2 server, we are giving you a random\n",
    "    subset, about 1/3 of the actual data in the turnstile_weather dataframe.\n",
    "    '''\n",
    "\n",
    "    plot = ggplot(aes(x='ENTRIESn_hourly'), \n",
    "                  data=turnstile_weather.groupby('UNIT').mean().reset_index()) \\\n",
    "                  + geom_histogram(binwidth=200) + ylab('Frequency') + \\\n",
    "                  ggtitle('Histogram of ENTRIESn_hourly grouped by subway stations')\n",
    "    return plot"
   ]
  },
  {
   "cell_type": "markdown",
   "metadata": {},
   "source": [
    "###Questions"
   ]
  },
  {
   "cell_type": "markdown",
   "metadata": {},
   "source": [
    "**1.1 Which statistical test did you use to analyze the NYC subway data? Did you use a one-tail or a two-tail P value? What is the null hypothesis? What is your p-critical value?**"
   ]
  },
  {
   "cell_type": "markdown",
   "metadata": {},
   "source": [
    "The Mann-Whitney U-test. I used a one-tail p-value. The null hypothesis H_0 is the probability of an observation from the population X exceeding an observation from the second population Y equals the probability of an observation from Y exceeding an observation from X : P(X > Y) = P(Y > X) or P(X > Y) + 0.5·P(X = Y) = 0.5. A stronger null hypothesis commonly used is \"The distributions of both populations are equal\" which implies the previous hypothesis (from [Wikipedia](https://en.wikipedia.org/wiki/Mann%E2%80%93Whitney_U_test)). The crtical p-value I chose is 0.05."
   ]
  },
  {
   "cell_type": "markdown",
   "metadata": {},
   "source": [
    "**1.2 Why is this statistical test applicable to the dataset? In particular, consider the assumptions that the test is making about the distribution of ridership in the two samples.**"
   ]
  },
  {
   "cell_type": "markdown",
   "metadata": {},
   "source": [
    "The Mann-Whitney is a non-parametric test that tests whether one distribution is stochastically greater than the other. Since it's non-parametric, it doesn't make assumptions about the underlying distribution. Therefore, with the distribution of the ridership data being not normally distribution, it makes sense to use the MW test."
   ]
  },
  {
   "cell_type": "markdown",
   "metadata": {},
   "source": [
    "**1.3 What results did you get from this statistical test? These should include the following numerical values: p-values, as well as the means for each of the two samples under test.**"
   ]
  },
  {
   "cell_type": "markdown",
   "metadata": {},
   "source": [
    "With rain mean, 1105.4463767458733. Without rain mean, 1090.278780151855. p-value: 0.024999912793489721"
   ]
  },
  {
   "cell_type": "markdown",
   "metadata": {},
   "source": [
    "**1.4 What is the significance and interpretation of these results?**"
   ]
  },
  {
   "cell_type": "markdown",
   "metadata": {},
   "source": [
    "With the results above, at a significance level of alpha=0.5, we reject the null hypothesis that the distributions of both populations (i.e. ridership when raining and when not raining is the same)."
   ]
  },
  {
   "cell_type": "markdown",
   "metadata": {},
   "source": [
    "**2.1 What approach did you use to compute the coefficients theta and produce prediction for ENTRIESn_hourly in your regression model:**\n",
    "\n",
    "- OLS using Statsmodels or Scikit Learn\n",
    "- Gradient descent using Scikit Learn\n",
    "- Or something different?"
   ]
  },
  {
   "cell_type": "markdown",
   "metadata": {},
   "source": [
    "OLS using Statsmodels"
   ]
  },
  {
   "cell_type": "markdown",
   "metadata": {},
   "source": [
    "**2.2 What features (input variables) did you use in your model? Did you use any dummy variables as part of your features?**"
   ]
  },
  {
   "cell_type": "markdown",
   "metadata": {},
   "source": [
    "I used 'rain', 'precipi', 'Hour', 'meantempi', 'fog' as features in my model. And created dummy variables for 'UNIT', i.e. a proxy for the subway station."
   ]
  },
  {
   "cell_type": "markdown",
   "metadata": {},
   "source": [
    "**2.3 Why did you select these features in your model? We are looking for specific reasons that lead you to believe that\n",
    "the selected features will contribute to the predictive power of your model.\n",
    "Your reasons might be based on intuition. For example, response for fog might be: “I decided to use fog because I thought that when it is very foggy outside people might decide to use the subway more often.”\n",
    "Your reasons might also be based on data exploration and experimentation, for example: “I used feature X because as soon as I included it in my model, it drastically improved my R2 value.”**  "
   ]
  },
  {
   "cell_type": "markdown",
   "metadata": {},
   "source": [
    "- Rain - included because the MW test shows significance at the 0.05.\n",
    "\n",
    "- Precipitation - it's quite synonymous to rain\n",
    "\n",
    "- Hour - certain hours of the day correspond to higher ridership (categorical variable)\n",
    "\n",
    "- meantempi (daily average temperature) - not likely a good feature but just put it in to the regression and see how its p-value turns out. Intuitively people might not want to ride at extremely hot or cold days\n",
    "\n",
    "- fog - looks like foggy days have lower ridership from histogram\n",
    "\n",
    "- UNIT - hard to tell from visualization but just put it in to the regression and see how its p-value turns out. Intuitively, certain stations should be more popular than others"
   ]
  },
  {
   "cell_type": "code",
   "execution_count": 48,
   "metadata": {
    "collapsed": true
   },
   "outputs": [],
   "source": [
    "import seaborn as sns"
   ]
  },
  {
   "cell_type": "code",
   "execution_count": 54,
   "metadata": {
    "collapsed": false
   },
   "outputs": [
    {
     "data": {
      "text/plain": [
       "(0, 10000)"
      ]
     },
     "execution_count": 54,
     "metadata": {},
     "output_type": "execute_result"
    },
    {
     "data": {
      "image/png": "[encoded data removed]",
      "text/plain": [
       "<matplotlib.figure.Figure at 0x114f66650>"
      ]
     },
     "metadata": {},
     "output_type": "display_data"
    }
   ],
   "source": [
    "sns.boxplot(x=\"precipi\", y=\"ENTRIESn_hourly\", data=turnstile_weather.sort('precipi'))\n",
    "plt.ylim(0,10000)"
   ]
  },
  {
   "cell_type": "code",
   "execution_count": 55,
   "metadata": {
    "collapsed": false
   },
   "outputs": [
    {
     "data": {
      "text/plain": [
       "(0, 20000)"
      ]
     },
     "execution_count": 55,
     "metadata": {},
     "output_type": "execute_result"
    },
    {
     "data": {
      "image/png": "[encoded data removed]",
      "text/plain": [
       "<matplotlib.figure.Figure at 0x10c521c10>"
      ]
     },
     "metadata": {},
     "output_type": "display_data"
    }
   ],
   "source": [
    "sns.boxplot(x=\"Hour\", y=\"ENTRIESn_hourly\", data=turnstile_weather.sort('Hour'))\n",
    "plt.ylim(0,20000)"
   ]
  },
  {
   "cell_type": "code",
   "execution_count": 57,
   "metadata": {
    "collapsed": false
   },
   "outputs": [
    {
     "data": {
      "text/plain": [
       "(0, 10000)"
      ]
     },
     "execution_count": 57,
     "metadata": {},
     "output_type": "execute_result"
    },
    {
     "data": {
      "image/png": "[encoded data removed]",
      "text/plain": [
       "<matplotlib.figure.Figure at 0x10f608e90>"
      ]
     },
     "metadata": {},
     "output_type": "display_data"
    }
   ],
   "source": [
    "sns.boxplot(x=\"meantempi\", y=\"ENTRIESn_hourly\", data=turnstile_weather.sort('meantempi'))\n",
    "plt.ylim(0,10000)"
   ]
  },
  {
   "cell_type": "code",
   "execution_count": 63,
   "metadata": {
    "collapsed": false
   },
   "outputs": [
    {
     "data": {
      "image/png": "[encoded data removed]",
      "text/plain": [
       "<matplotlib.figure.Figure at 0x10dbb3e10>"
      ]
     },
     "metadata": {},
     "output_type": "display_data"
    }
   ],
   "source": [
    "turnstile_weather[turnstile_weather['fog'] == 1]['ENTRIESn_hourly'].hist(alpha=0.5, bins=50, label='foggy')\n",
    "turnstile_weather[turnstile_weather['fog'] == 0]['ENTRIESn_hourly'].hist(alpha=0.5, bins=50, label='not foggy')\n",
    "plt.xlim(0,20000)\n",
    "plt.legend()\n",
    "plt.show()"
   ]
  },
  {
   "cell_type": "code",
   "execution_count": 65,
   "metadata": {
    "collapsed": false
   },
   "outputs": [
    {
     "data": {
      "image/png": "[encoded data removed]",
      "text/plain": [
       "<matplotlib.figure.Figure at 0x11c4ebe50>"
      ]
     },
     "metadata": {},
     "output_type": "display_data"
    }
   ],
   "source": [
    "sns.boxplot(x=\"UNIT\", y=\"ENTRIESn_hourly\", data=turnstile_weather.sort('UNIT'));"
   ]
  },
  {
   "cell_type": "markdown",
   "metadata": {},
   "source": [
    "**2.4 What are the parameters (also known as \"coefficients\" or \"weights\") of the non-dummy features in your linear regression model?**"
   ]
  },
  {
   "cell_type": "markdown",
   "metadata": {},
   "source": [
    "rain: 3.7819, precipi: -34.5090, meantempi: -13.1118, fog: 191.8612"
   ]
  },
  {
   "cell_type": "markdown",
   "metadata": {},
   "source": [
    "**2.5 What is your model’s R2 (coefficients of determination) value?**"
   ]
  },
  {
   "cell_type": "markdown",
   "metadata": {},
   "source": [
    "R-squared:                       0.522"
   ]
  },
  {
   "cell_type": "markdown",
   "metadata": {},
   "source": [
    "**2.6 What does this R2 value mean for the goodness of fit for your regression model? Do you think this linear model to predict ridership is appropriate for this dataset, given this R2  value?**"
   ]
  },
  {
   "cell_type": "markdown",
   "metadata": {},
   "source": [
    "R2 is the amount of variation of the outcome that is predicted by the amount of variation of the predictors. R2 is only slightly better than a coin-toss (i.e. 50%) which is not very good. Given this R2, there are likely better models like random forest or support vector machines that could fit this data since there are likely some interactions between the variables."
   ]
  },
  {
   "cell_type": "markdown",
   "metadata": {},
   "source": [
    "**Please include two visualizations that show the relationships between two or more variables in the NYC subway data.\n",
    "Remember to add appropriate titles and axes labels to your plots. Also, please add a short description below each figure commenting on the key insights depicted in the figure.**"
   ]
  },
  {
   "cell_type": "markdown",
   "metadata": {},
   "source": [
    "**3.1 One visualization should contain two histograms: one of  ENTRIESn_hourly for rainy days and one of ENTRIESn_hourly for non-rainy days.\n",
    "You can combine the two histograms in a single plot or you can use two separate plots.\n",
    "If you decide to use to two separate plots for the two histograms, please ensure that the x-axis limits for both of the plots are identical. It is much easier to compare the two in that case.\n",
    "For the histograms, you should have intervals representing the volume of ridership (value of ENTRIESn_hourly) on the x-axis and the frequency of occurrence on the y-axis. For example, each interval (along the x-axis), the height of the bar for this interval will represent the number of records (rows in our data) that have ENTRIESn_hourly that falls in this interval.\n",
    "Remember to increase the number of bins in the histogram (by having larger number of bars). The default bin width is not sufficient to capture the variability in the two samples.**"
   ]
  },
  {
   "cell_type": "code",
   "execution_count": 77,
   "metadata": {
    "collapsed": false
   },
   "outputs": [
    {
     "data": {
      "image/png": "[encoded data removed]",
      "text/plain": [
       "<matplotlib.figure.Figure at 0x1225ce610>"
      ]
     },
     "metadata": {},
     "output_type": "display_data"
    }
   ],
   "source": [
    "turnstile_weather[turnstile_weather['rain'] == 1]['ENTRIESn_hourly'].hist(alpha=0.5, bins=80,\n",
    "                                                                         label='Rainy')\n",
    "turnstile_weather[turnstile_weather['rain'] == 0]['ENTRIESn_hourly'].hist(alpha=0.5, bins=80,\n",
    "                                                                         label='Non-Rainy')\n",
    "plt.xlim(0,20000)\n",
    "plt.title('Histogram of ENTRIESn_hourly on Rainy and Non-Rainy Days')\n",
    "plt.ylabel('Occurances')\n",
    "plt.xlabel('ENTRIESn_hourly')\n",
    "plt.legend()\n",
    "plt.show()"
   ]
  },
  {
   "cell_type": "markdown",
   "metadata": {},
   "source": [
    "**3.2 One visualization can be more freeform. You should feel free to implement something that we discussed in class (e.g., scatter plots, line plots) or attempt to implement something more advanced if you'd like. Some suggestions are:\n",
    "Ridership by time-of-day\n",
    "Ridership by day-of-week**"
   ]
  },
  {
   "cell_type": "code",
   "execution_count": 72,
   "metadata": {
    "collapsed": false
   },
   "outputs": [],
   "source": [
    "turnstile_weather['day_of_week'] = \\\n",
    "turnstile_weather['DATEn'].apply(lambda x: datetime.strptime(x, '%Y-%m-%d').weekday())"
   ]
  },
  {
   "cell_type": "code",
   "execution_count": 76,
   "metadata": {
    "collapsed": false
   },
   "outputs": [
    {
     "data": {
      "image/png": "[encoded data removed]",
      "text/plain": [
       "<matplotlib.figure.Figure at 0x12203c950>"
      ]
     },
     "metadata": {},
     "output_type": "display_data"
    }
   ],
   "source": [
    "sns.boxplot(x=\"day_of_week\", y=\"ENTRIESn_hourly\", data=turnstile_weather.sort('day_of_week'))\n",
    "plt.ylim(0,8000)\n",
    "plt.show()"
   ]
  },
  {
   "cell_type": "markdown",
   "metadata": {},
   "source": [
    "**4.1 From your analysis and interpretation of the data, do more people ride\n",
    "the NYC subway when it is raining or when it is not raining?**"
   ]
  },
  {
   "cell_type": "markdown",
   "metadata": {},
   "source": [
    "It is hard to say whether more people ride the NYC when it is raining than when it is not."
   ]
  },
  {
   "cell_type": "markdown",
   "metadata": {},
   "source": [
    "**4.2 What analyses lead you to this conclusion? You should use results from both your statistical\n",
    "tests and your linear regression to support your analysis.**"
   ]
  },
  {
   "cell_type": "markdown",
   "metadata": {},
   "source": [
    "The inconclusive conclusion above is due to the various results from the above analyses:\n",
    "\n",
    "- From the Mann Whitney U-test, there is a slight increase in ridership of the subway when it is raining. Given the significance level of the test (alpha=0.5), there is a 95% chance that if you take additional samples of ridership date in the future that you'll see more people ride the NYC subway when it is raining. \n",
    "\n",
    "- From a visualization perspective (i.e. histogram), the difference in ridership is hard to discern.\n",
    "\n",
    "- From the result of the linear regression, the p-value of 'rain' as a variable is 0.922, which is way higher the commonly accepted alpha of 0.05."
   ]
  },
  {
   "cell_type": "markdown",
   "metadata": {},
   "source": [
    "**5.1 Please discuss potential shortcomings of the methods of your analysis, including:\n",
    "Dataset,\n",
    "Analysis, such as the linear regression model or statistical test.**"
   ]
  },
  {
   "cell_type": "markdown",
   "metadata": {},
   "source": [
    "Potential shortcomings of the dataset:\n",
    "\n",
    "- Time period of data collected: the data was only collected for the month of May when it has nice weather in NYC. If it were collected for the months from September to March when the weather it's a bit more undesirable. Different trends/insights may be derived.\n",
    "\n",
    "- Improved features set: the improved features set only improved the R2 by 0.02. So the data collected so far may just not be enough for the prediction. Other sources of data may be needed to improve the prediction.\n",
    "\n",
    "Potential shortcomings of the analysis:\n",
    "\n",
    "- Interaction between variables: linear regression doesn't take into account the effect of the interaction of variables on the outcome unless the interaction terms are specified. Methods like support vector machines and tree-based methods may have more predictive power. It also assumes that the relationship between the predictor and the outcome is linear which may not be true for some variables.\n",
    "\n",
    "- Statistical test: the Mann Whitney test probably is more appropriate for determining the difference between ridership on rainy vs. non-rainy days since it is non-parametric (unlike linear regression)."
   ]
  },
  {
   "cell_type": "markdown",
   "metadata": {},
   "source": [
    "**5.2 (Optional) Do you have any other insight about the dataset that you would like to share with us?**"
   ]
  },
  {
   "cell_type": "code",
   "execution_count": null,
   "metadata": {
    "collapsed": true
   },
   "outputs": [],
   "source": []
  }
 ],
 "metadata": {
  "kernelspec": {
   "display_name": "Python 2",
   "language": "python",
   "name": "python2"
  },
  "language_info": {
   "codemirror_mode": {
    "name": "ipython",
    "version": 2
   },
   "file_extension": ".py",
   "mimetype": "text/x-python",
   "name": "python",
   "nbconvert_exporter": "python",
   "pygments_lexer": "ipython2",
   "version": "2.7.10"
  }
 },
 "nbformat": 4,
 "nbformat_minor": 0
}
